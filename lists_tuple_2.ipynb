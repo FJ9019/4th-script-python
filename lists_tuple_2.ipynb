{
 "cells": [
  {
   "cell_type": "code",
   "execution_count": 2,
   "metadata": {},
   "outputs": [
    {
     "data": {
      "text/plain": [
       "['Franck',\n",
       " 'Rosie',\n",
       " 'Jane',\n",
       " 'Wendy',\n",
       " 'Linlin',\n",
       " 'Michel',\n",
       " 'Bendjina',\n",
       " 'Fallonne',\n",
       " 'Dule',\n",
       " 'Darlie',\n",
       " 'Gwenda',\n",
       " 'Ninie']"
      ]
     },
     "execution_count": 2,
     "metadata": {},
     "output_type": "execute_result"
    }
   ],
   "source": [
    "l1 = [\"Franck\", \"Rosie\", \"Jane\", \"Wendy\", \"Linlin\", \"Michel\"]\n",
    "l2 = ['Bendjina', \"Fallonne\", \"Dule\", \"Darlie\", \"Gwenda\", \"Ninie\"]\n",
    "\n",
    "l1.extend(l2)\n",
    "\n",
    "noms_str = \", \".join(l1)\n",
    "\n",
    "noms_str.split(\", \")"
   ]
  },
  {
   "cell_type": "code",
   "execution_count": 4,
   "metadata": {},
   "outputs": [
    {
     "data": {
      "text/plain": [
       "1"
      ]
     },
     "execution_count": 4,
     "metadata": {},
     "output_type": "execute_result"
    }
   ],
   "source": [
    "t1 = tuple(l1)\n",
    "\n",
    "l1.count(\"Rosie\")"
   ]
  },
  {
   "cell_type": "code",
   "execution_count": 5,
   "metadata": {},
   "outputs": [
    {
     "name": "stdout",
     "output_type": "stream",
     "text": [
      "12\n",
      "['Franck', 'Rosie', 'Jane', 'Wendy', 'Linlin', 'Michel', 'Bendjina', 'Fallonne', 'Dule', 'Darlie', 'Gwenda', 'Ninie']\n"
     ]
    },
    {
     "data": {
      "text/plain": [
       "['Franck', 'Rosie', 'Jane', 'Wendy', 'Linlin', 'Michel']"
      ]
     },
     "execution_count": 5,
     "metadata": {},
     "output_type": "execute_result"
    }
   ],
   "source": [
    "print(len(l1))\n",
    "print(l1)\n",
    "l1[0:6]"
   ]
  }
 ],
 "metadata": {
  "kernelspec": {
   "display_name": "Python 3",
   "language": "python",
   "name": "python3"
  },
  "language_info": {
   "codemirror_mode": {
    "name": "ipython",
    "version": 3
   },
   "file_extension": ".py",
   "mimetype": "text/x-python",
   "name": "python",
   "nbconvert_exporter": "python",
   "pygments_lexer": "ipython3",
   "version": "3.13.0"
  }
 },
 "nbformat": 4,
 "nbformat_minor": 2
}
