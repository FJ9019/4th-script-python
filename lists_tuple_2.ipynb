{
 "cells": [
  {
   "cell_type": "code",
   "execution_count": 2,
   "metadata": {},
   "outputs": [
    {
     "data": {
      "text/plain": [
       "['Franck',\n",
       " 'Rosie',\n",
       " 'Jane',\n",
       " 'Wendy',\n",
       " 'Linlin',\n",
       " 'Michel',\n",
       " 'Bendjina',\n",
       " 'Fallonne',\n",
       " 'Dule',\n",
       " 'Darlie',\n",
       " 'Gwenda',\n",
       " 'Ninie']"
      ]
     },
     "execution_count": 2,
     "metadata": {},
     "output_type": "execute_result"
    }
   ],
   "source": [
    "l1 = [\"Franck\", \"Rosie\", \"Jane\", \"Wendy\", \"Linlin\", \"Michel\"]\n",
    "l2 = ['Bendjina', \"Fallonne\", \"Dule\", \"Darlie\", \"Gwenda\", \"Ninie\"]\n",
    "\n",
    "l1.extend(l2)\n",
    "\n",
    "noms_str = \", \".join(l1)\n",
    "\n",
    "noms_str.split(\", \")"
   ]
  }
 ],
 "metadata": {
  "kernelspec": {
   "display_name": "Python 3",
   "language": "python",
   "name": "python3"
  },
  "language_info": {
   "codemirror_mode": {
    "name": "ipython",
    "version": 3
   },
   "file_extension": ".py",
   "mimetype": "text/x-python",
   "name": "python",
   "nbconvert_exporter": "python",
   "pygments_lexer": "ipython3",
   "version": "3.13.0"
  }
 },
 "nbformat": 4,
 "nbformat_minor": 2
}
